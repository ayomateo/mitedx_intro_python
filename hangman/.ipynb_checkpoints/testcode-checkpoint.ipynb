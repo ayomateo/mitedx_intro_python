{
 "cells": [
  {
   "cell_type": "code",
   "execution_count": 1,
   "metadata": {
    "collapsed": true
   },
   "outputs": [],
   "source": [
    "\n",
    "import random\n",
    "\n",
    "WORDLIST_FILENAME = \"words.txt\"\n",
    "\n",
    "def loadWords():\n",
    "    \"\"\"\n",
    "    Returns a list of valid words. Words are strings of lowercase letters.\n",
    "    \n",
    "    Depending on the size of the word list, this function may\n",
    "    take a while to finish.\n",
    "    \"\"\"\n",
    "    print(\"Loading word list from file...\")\n",
    "    # inFile: file\n",
    "    inFile = open(WORDLIST_FILENAME, 'r')\n",
    "    # line: string\n",
    "    line = inFile.readline()\n",
    "    # wordlist: list of strings\n",
    "    wordlist = line.split()\n",
    "    print(\"  \", len(wordlist), \"words loaded.\")\n",
    "    return wordlist\n",
    "\n",
    "def chooseWord(wordlist):\n",
    "    \"\"\"\n",
    "    wordlist (list): list of words (strings)\n",
    "\n",
    "    Returns a word from wordlist at random\n",
    "    \"\"\"\n",
    "    return random.choice(wordlist)"
   ]
  },
  {
   "cell_type": "code",
   "execution_count": 21,
   "metadata": {},
   "outputs": [
    {
     "name": "stdout",
     "output_type": "stream",
     "text": [
      "Loading word list from file...\n",
      "('  ', 55909, 'words loaded.')\n",
      "True\n"
     ]
    }
   ],
   "source": [
    "# Load the list of words into the variable wordlist\n",
    "# so that it can be accessed from anywhere in the program\n",
    "wordlist = loadWords()\n",
    "\n",
    "def isWordGuessed(secretWord, lettersGuessed):\n",
    "    '''\n",
    "    secretWord: string, the word the user is guessing\n",
    "    lettersGuessed: list, what letters have been guessed so far\n",
    "    returns: boolean, True if all the letters of secretWord are in lettersGuessed;\n",
    "      False otherwise\n",
    "    '''\n",
    "\n",
    "\n",
    "    for letter in secretWord:\n",
    "        if letter not in lettersGuessed:\n",
    "            return False\n",
    "\n",
    "    return True\n",
    "\n",
    "#secretWord = 'apple'\n",
    "#lettersGuessed = ['e', 'i', 'k', 'p', 'r', 's']\n",
    "secretWord = 'durian' \n",
    "lettersGuessed = ['h', 'a', 'c', 'd', 'i', 'm', 'n', 'r', 't', 'u']\n",
    "print(isWordGuessed(secretWord, lettersGuessed))"
   ]
  },
  {
   "cell_type": "code",
   "execution_count": 51,
   "metadata": {},
   "outputs": [
    {
     "name": "stdout",
     "output_type": "stream",
     "text": [
      "_ p p _ e \n"
     ]
    }
   ],
   "source": [
    "\n",
    "def getGuessedWord(secretWord, lettersGuessed):\n",
    "    '''\n",
    "    secretWord: string, the word the user is guessing\n",
    "    lettersGuessed: list, what letters have been guessed so far\n",
    "    returns: string, comprised of letters and underscores that represents\n",
    "      what letters in secretWord have been guessed so far.\n",
    "    '''\n",
    "    \n",
    "    # fill in the underscores\n",
    "    _result = \"\"\n",
    "    for i in range(len(secretWord)):\n",
    "        _result = _result + \"_\"\n",
    "        \n",
    "    # update result to reflect user response\n",
    "    _resultList = list(_result)\n",
    "    for letter in lettersGuessed:\n",
    "        for index in range(len(secretWord)):\n",
    "            if letter == secretWord[index]:\n",
    "                _resultList[index] = letter\n",
    "            \n",
    "    # stretch out the return\n",
    "    result = []\n",
    "    for letter in _resultList:\n",
    "        result += letter\n",
    "        result += \" \"\n",
    "        \n",
    "    return \"\".join(result)\n",
    "    \n",
    "\n",
    "secretWord = 'apple' \n",
    "lettersGuessed = ['e', 'i', 'k', 'p', 'r', 's']\n",
    "print(getGuessedWord(secretWord, lettersGuessed))\n",
    "\n",
    "#'_ pp_ e'\n"
   ]
  },
  {
   "cell_type": "code",
   "execution_count": 58,
   "metadata": {},
   "outputs": [
    {
     "name": "stdout",
     "output_type": "stream",
     "text": [
      "abcdfghjlmnoqtuvwxyz\n"
     ]
    }
   ],
   "source": [
    "import string\n",
    "\n",
    "def getAvailableLetters(lettersGuessed):\n",
    "    '''\n",
    "    lettersGuessed: list, what letters have been guessed so far\n",
    "    returns: string, comprised of letters that represents what letters have not\n",
    "      yet been guessed.\n",
    "    '''\n",
    "    \n",
    "    alphabets = list(string.ascii_lowercase)\n",
    "    for letter in lettersGuessed:\n",
    "        if letter in alphabets:\n",
    "            alphabets.remove(letter)\n",
    "            \n",
    "    return \"\".join(alphabets)\n",
    "            \n",
    "lettersGuessed = ['e', 'i', 'k', 'p', 'r', 's']\n",
    "print(getAvailableLetters(lettersGuessed))\n",
    "            \n",
    "    \n",
    "    "
   ]
  },
  {
   "cell_type": "code",
   "execution_count": 94,
   "metadata": {},
   "outputs": [
    {
     "name": "stdout",
     "output_type": "stream",
     "text": [
      "Welcome to Hangman!\n",
      "\n",
      "('Your Word: ', '_ _ _ _ _ _ _ _ ')\n",
      "('Number of letters:', 8)\n",
      "('Max Guesses:', 8)\n",
      "\n",
      "Guess a letter:e\n",
      "Letter already guessed...please try again...\n",
      "Nice Guess!\n",
      "('Letters guessed:', 'e')\n",
      "('Available Letters:', 'abcdfghijklmnopqrstuvwxyz')\n",
      "('Number of incorrect guesses', 0)\n",
      "('Tries remaining:', 7)\n",
      "\n",
      "('Your progress so far:', '_ _ _ _ _ e e _ ')\n",
      "\n"
     ]
    },
    {
     "ename": "KeyboardInterrupt",
     "evalue": "",
     "output_type": "error",
     "traceback": [
      "\u001b[0;31m---------------------------------------------------------------------------\u001b[0m",
      "\u001b[0;31mKeyboardInterrupt\u001b[0m                         Traceback (most recent call last)",
      "\u001b[0;32m<ipython-input-94-d189c686c430>\u001b[0m in \u001b[0;36m<module>\u001b[0;34m()\u001b[0m\n\u001b[1;32m     96\u001b[0m \u001b[0msecretWord\u001b[0m \u001b[0;34m=\u001b[0m \u001b[0mchooseWord\u001b[0m\u001b[0;34m(\u001b[0m\u001b[0mwordlist\u001b[0m\u001b[0;34m)\u001b[0m\u001b[0;34m.\u001b[0m\u001b[0mlower\u001b[0m\u001b[0;34m(\u001b[0m\u001b[0;34m)\u001b[0m\u001b[0;34m\u001b[0m\u001b[0m\n\u001b[1;32m     97\u001b[0m \u001b[0;34m\u001b[0m\u001b[0m\n\u001b[0;32m---> 98\u001b[0;31m \u001b[0mhangman\u001b[0m\u001b[0;34m(\u001b[0m\u001b[0msecretWord\u001b[0m\u001b[0;34m)\u001b[0m\u001b[0;34m\u001b[0m\u001b[0m\n\u001b[0m",
      "\u001b[0;32m<ipython-input-94-d189c686c430>\u001b[0m in \u001b[0;36mhangman\u001b[0;34m(secretWord)\u001b[0m\n\u001b[1;32m     48\u001b[0m         \u001b[0;31m# Ask the user to supply one guess (i.e. letter) per round.\u001b[0m\u001b[0;34m\u001b[0m\u001b[0;34m\u001b[0m\u001b[0m\n\u001b[1;32m     49\u001b[0m         \u001b[0;32mwhile\u001b[0m\u001b[0;34m(\u001b[0m\u001b[0mTrue\u001b[0m\u001b[0;34m)\u001b[0m\u001b[0;34m:\u001b[0m\u001b[0;34m\u001b[0m\u001b[0m\n\u001b[0;32m---> 50\u001b[0;31m             \u001b[0mguess\u001b[0m \u001b[0;34m=\u001b[0m \u001b[0mraw_input\u001b[0m\u001b[0;34m(\u001b[0m\u001b[0;34m\"Guess a letter:\"\u001b[0m\u001b[0;34m)\u001b[0m\u001b[0;34m.\u001b[0m\u001b[0mlower\u001b[0m\u001b[0;34m(\u001b[0m\u001b[0;34m)\u001b[0m\u001b[0;34m\u001b[0m\u001b[0m\n\u001b[0m\u001b[1;32m     51\u001b[0m             \u001b[0;32mif\u001b[0m \u001b[0mguess\u001b[0m \u001b[0;32mnot\u001b[0m \u001b[0;32min\u001b[0m \u001b[0mlettersGuessed\u001b[0m\u001b[0;34m:\u001b[0m\u001b[0;34m\u001b[0m\u001b[0m\n\u001b[1;32m     52\u001b[0m                 \u001b[0;32mprint\u001b[0m\u001b[0;34m(\u001b[0m\u001b[0;34m\"Letter already guessed...please try again...\"\u001b[0m\u001b[0;34m)\u001b[0m\u001b[0;34m\u001b[0m\u001b[0m\n",
      "\u001b[0;32m/Library/Python/2.7/site-packages/ipykernel/kernelbase.pyc\u001b[0m in \u001b[0;36mraw_input\u001b[0;34m(self, prompt)\u001b[0m\n\u001b[1;32m    692\u001b[0m             \u001b[0mself\u001b[0m\u001b[0;34m.\u001b[0m\u001b[0m_parent_ident\u001b[0m\u001b[0;34m,\u001b[0m\u001b[0;34m\u001b[0m\u001b[0m\n\u001b[1;32m    693\u001b[0m             \u001b[0mself\u001b[0m\u001b[0;34m.\u001b[0m\u001b[0m_parent_header\u001b[0m\u001b[0;34m,\u001b[0m\u001b[0;34m\u001b[0m\u001b[0m\n\u001b[0;32m--> 694\u001b[0;31m             \u001b[0mpassword\u001b[0m\u001b[0;34m=\u001b[0m\u001b[0mFalse\u001b[0m\u001b[0;34m,\u001b[0m\u001b[0;34m\u001b[0m\u001b[0m\n\u001b[0m\u001b[1;32m    695\u001b[0m         )\n\u001b[1;32m    696\u001b[0m \u001b[0;34m\u001b[0m\u001b[0m\n",
      "\u001b[0;32m/Library/Python/2.7/site-packages/ipykernel/kernelbase.pyc\u001b[0m in \u001b[0;36m_input_request\u001b[0;34m(self, prompt, ident, parent, password)\u001b[0m\n\u001b[1;32m    722\u001b[0m             \u001b[0;32mexcept\u001b[0m \u001b[0mKeyboardInterrupt\u001b[0m\u001b[0;34m:\u001b[0m\u001b[0;34m\u001b[0m\u001b[0m\n\u001b[1;32m    723\u001b[0m                 \u001b[0;31m# re-raise KeyboardInterrupt, to truncate traceback\u001b[0m\u001b[0;34m\u001b[0m\u001b[0;34m\u001b[0m\u001b[0m\n\u001b[0;32m--> 724\u001b[0;31m                 \u001b[0;32mraise\u001b[0m \u001b[0mKeyboardInterrupt\u001b[0m\u001b[0;34m\u001b[0m\u001b[0m\n\u001b[0m\u001b[1;32m    725\u001b[0m             \u001b[0;32melse\u001b[0m\u001b[0;34m:\u001b[0m\u001b[0;34m\u001b[0m\u001b[0m\n\u001b[1;32m    726\u001b[0m                 \u001b[0;32mbreak\u001b[0m\u001b[0;34m\u001b[0m\u001b[0m\n",
      "\u001b[0;31mKeyboardInterrupt\u001b[0m: "
     ]
    }
   ],
   "source": [
    "def isLetterInSecretWord(secretWord,letterGuessed):\n",
    "    \n",
    "    for i in letterGuessed:\n",
    "        if letterGuessed not in secretWord:\n",
    "            return False\n",
    "        \n",
    "    return True\n",
    "    \n",
    "def hangman(secretWord):\n",
    "    '''\n",
    "    secretWord: string, the secret word to guess.\n",
    "\n",
    "    Starts up an interactive game of Hangman.\n",
    "\n",
    "    * At the start of the game, let the user know how many \n",
    "      letters the secretWord contains.\n",
    "\n",
    "    * Ask the user to supply one guess (i.e. letter) per round.\n",
    "\n",
    "    * The user should receive feedback immediately after each guess \n",
    "      about whether their guess appears in the computers word.\n",
    "\n",
    "    * After each round, you should also display to the user the \n",
    "      partially guessed word so far, as well as letters that the \n",
    "      user has not yet guessed.\n",
    "\n",
    "    Follows the other limitations detailed in the problem write-up.\n",
    "    '''\n",
    "\n",
    "    #At the start of the game, let the user know how many \n",
    "    #  letters the secretWord contains.\n",
    "    \n",
    "    lettersGuessed = []\n",
    "    print(\"Welcome to Hangman!\\n\")\n",
    "    \n",
    "    max_guesses = 8\n",
    "    incorrectGuesses = 0\n",
    "\n",
    "    print(\"Your Word: \",getGuessedWord(secretWord,lettersGuessed))\n",
    "    print(\"Number of letters:\",len(secretWord))\n",
    "    print(\"Max Guesses:\",max_guesses)\n",
    "    print(\"\")\n",
    "    \n",
    "    # iterate through the number of guesses\n",
    "    correct = False\n",
    "    for attempt_index in range(max_guesses):\n",
    "\n",
    "        # Ask the user to supply one guess (i.e. letter) per round.\n",
    "        while(True):\n",
    "            print(\"Letter already guessed...please try again...\")\n",
    "            guess = raw_input(\"Guess a letter:\").lower()\n",
    "            if guess not in lettersGuessed:\n",
    "                break\n",
    "\n",
    "        # The user should receive feedback immediately after each guess \n",
    "        # about whether their guess appears in the computers word.\n",
    "        \n",
    "        # update list of letters guessed\n",
    "        lettersGuessed.append(guess)\n",
    "        \n",
    "        # check if letter is in secret word\n",
    "        if isLetterInSecretWord(secretWord,guess) == True:\n",
    "            print(\"Nice Guess!\")\n",
    "        else:\n",
    "            incorrectGuesses += 1\n",
    "            print(\"Ooops...Try Again!\")\n",
    "            \n",
    "        # did the user win\n",
    "        if isWordGuessed(secretWord,lettersGuessed):\n",
    "            correct = True\n",
    "            break\n",
    "            \n",
    "        # print remaining letters\n",
    "        print(\"Letters guessed:\",\"\".join(lettersGuessed))\n",
    "        print(\"Available Letters:\",getAvailableLetters(lettersGuessed))\n",
    "        print(\"Number of incorrect guesses\",incorrectGuesses)\n",
    "        print(\"Tries remaining:\", max_guesses - attempt_index  -1)\n",
    "\n",
    "        print(\"\")\n",
    "\n",
    "        print(\"Your progress so far:\",getGuessedWord(secretWord,lettersGuessed))\n",
    "        print(\"\")\n",
    "        \n",
    "        # After each round, you should also display to the user the \n",
    "        # partially guessed word so far, as well as letters that the \n",
    "        # user has not yet guessed.\n",
    "\n",
    "    if correct == True:\n",
    "        print(\"You did it. Congratulations!!!!\\n\")\n",
    "    else:\n",
    "        print(\"Sorry...You have exceeded maximum tries...\")\n",
    "        print(\"The correct word is\",secretWord)\n",
    "\n",
    "    print(\"\")\n",
    "    \n",
    "secretWord = chooseWord(wordlist).lower()\n",
    "\n",
    "hangman(secretWord)"
   ]
  },
  {
   "cell_type": "code",
   "execution_count": 83,
   "metadata": {
    "collapsed": true
   },
   "outputs": [],
   "source": [
    "# When you've completed your hangman function, uncomment these two lines\n",
    "# and run this file to test! (hint: you might want to pick your own\n",
    "# secretWord while you're testing)\n",
    "\n",
    "# secretWord = chooseWord(wordlist).lower()\n",
    "# hangman(secretWord)"
   ]
  },
  {
   "cell_type": "code",
   "execution_count": null,
   "metadata": {
    "collapsed": true
   },
   "outputs": [],
   "source": []
  }
 ],
 "metadata": {
  "kernelspec": {
   "display_name": "Python 2",
   "language": "python",
   "name": "python2"
  },
  "language_info": {
   "codemirror_mode": {
    "name": "ipython",
    "version": 2
   },
   "file_extension": ".py",
   "mimetype": "text/x-python",
   "name": "python",
   "nbconvert_exporter": "python",
   "pygments_lexer": "ipython2",
   "version": "2.7.10"
  }
 },
 "nbformat": 4,
 "nbformat_minor": 2
}
